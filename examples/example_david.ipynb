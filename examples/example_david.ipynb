{
 "cells": [
  {
   "cell_type": "code",
   "execution_count": 1,
   "metadata": {},
   "outputs": [],
   "source": [
    "import os\n",
    "from ase.io import read, write\n",
    "from ase import Atoms"
   ]
  },
  {
   "cell_type": "code",
   "execution_count": 2,
   "metadata": {},
   "outputs": [
    {
     "name": "stdout",
     "output_type": "stream",
     "text": [
      "Atoms(symbols='CNCN2C10NC6OH19', pbc=False)\n"
     ]
    }
   ],
   "source": [
    "mol = read(\"../tests/example_data/david_test.xyz\")\n",
    "print(mol)\n",
    "mol2 = Atoms(symbols=mol.get_chemical_symbols(), positions=mol.get_positions())\n",
    "write(\"../tests/example_data/david_test.xyz\", mol2)"
   ]
  },
  {
   "cell_type": "code",
   "execution_count": 3,
   "metadata": {},
   "outputs": [
    {
     "name": "stderr",
     "output_type": "stream",
     "text": [
      "1 molecule converted\n"
     ]
    },
    {
     "data": {
      "text/plain": [
       "0"
      ]
     },
     "execution_count": 3,
     "metadata": {},
     "output_type": "execute_result"
    }
   ],
   "source": [
    "# convert the molecule from xyz file to sdf\n",
    "os.system(\"obabel ../tests/example_data/david_test.xyz -osdf -O ../tests/example_data/david_test.sdf\")"
   ]
  },
  {
   "cell_type": "code",
   "execution_count": 4,
   "metadata": {},
   "outputs": [
    {
     "name": "stderr",
     "output_type": "stream",
     "text": [
      "/rds/user/jhm72/hpc-work/openmmtools-dev/openmmtools/storage/iodrivers.py:88: SyntaxWarning: \"is not\" with a literal. Did you mean \"!=\"?\n",
      "  return '/'.join([path_part.strip('/ ') for path_part in split_path if path_part is not ''])\n",
      "/rds/user/jhm72/hpc-work/openmmtools-dev/openmmtools/storage/iodrivers.py:703: SyntaxWarning: \"is\" with a literal. Did you mean \"==\"?\n",
      "  if self._output_mode is 'a':\n",
      "Warning: Unable to load toolkit 'OpenEye Toolkit'. The Open Force Field Toolkit does not require the OpenEye Toolkits, and can use RDKit/AmberTools instead. However, if you have a valid license for the OpenEye Toolkits, consider installing them for faster performance and additional file format support: https://docs.eyesopen.com/toolkits/python/quickstart-python/linuxosx.html OpenEye offers free Toolkit licenses for academics: https://www.eyesopen.com/academic-licensing\n",
      "Warning: importing 'simtk.openmm' is deprecated.  Import 'openmm' instead.\n"
     ]
    }
   ],
   "source": [
    "# Import the necessary packages\n",
    "from mace_openmm.mixed_system import MixedSystem\n",
    "import torch\n",
    "import logging\n",
    "from typing import Optional, Union\n",
    "from mace import tools"
   ]
  },
  {
   "cell_type": "code",
   "execution_count": 9,
   "metadata": {},
   "outputs": [],
   "source": [
    "# the full system to be simulated\n",
    "system_file = \"../tests/example_data/david_test.sdf\"\n",
    "# the part of the system simulated with ML (in this case the whole system again)\n",
    "ml_mol = \"../tests/example_data/david_test.sdf\"\n",
    "model_path = \"../tests/example_data/MACE_SPICE_larger.model\"\n",
    "\n",
    "resname=\"OpenBabel01062309583D\"\n",
    "potential = \"mace\"\n",
    "temperature = 298.15\n",
    "dtype = torch.float64\n",
    "neighbour_list = \"torch_nl_n2\"\n",
    "\n",
    "output_dir = \"./small_molecule/md_out/\"\n",
    "system_type = \"pure\""
   ]
  },
  {
   "cell_type": "code",
   "execution_count": 10,
   "metadata": {},
   "outputs": [
    {
     "name": "stdout",
     "output_type": "stream",
     "text": [
      "Initialized topology with (42, 3) positions\n",
      "MACE model compiled\n"
     ]
    }
   ],
   "source": [
    "torch.set_default_dtype(dtype)\n",
    "\n",
    "# I don't think this should be here\n",
    "forcefields = [\n",
    "    \"amber/protein.ff14SB.xml\",\n",
    "    \"amber/tip3p_standard.xml\",\n",
    "    \"amber14/DNA.OL15.xml\",\n",
    "]\n",
    "\n",
    "mixedSystem = MixedSystem(\n",
    "    file=system_file,\n",
    "    ml_mol=ml_mol,\n",
    "    model_path=model_path,\n",
    "    forcefields=forcefields, # not needed, default to anything in the case of pure? \n",
    "    resname=resname,\n",
    "    padding=1.2, # not needed\n",
    "    ionicStrength=0.0, # not needed\n",
    "    nonbondedCutoff=1.0, # not needed\n",
    "    potential=potential,\n",
    "    temperature=temperature,\n",
    "    dtype=dtype,\n",
    "    neighbour_list=neighbour_list,\n",
    "    output_dir=output_dir,\n",
    "    system_type=system_type,\n",
    ")"
   ]
  },
  {
   "cell_type": "code",
   "execution_count": 11,
   "metadata": {},
   "outputs": [
    {
     "name": "stderr",
     "output_type": "stream",
     "text": [
      "[W parser.cpp:3513] Warning: operator() sees varying value in profiling, ignoring and this should be handled by GUARD logic (function operator())\n",
      "[W graph_fuser.cpp:104] Warning: operator() profile_node %512 : int[] = prim::profile_ivalue(%510)\n",
      " does not have profile information (function operator())\n"
     ]
    },
    {
     "name": "stdout",
     "output_type": "stream",
     "text": [
      "#\"Step\",\"Time (ps)\",\"Potential Energy (kJ/mole)\",\"Temperature (K)\",\"Speed (ns/day)\"\n",
      "100,0.10000000000000007,-115.55546337202293,33.365462752048096,0\n",
      "200,0.20000000000000015,-105.82530814205796,67.14590271990329,4.54\n",
      "300,0.3000000000000002,-93.20545692529697,86.74555800918337,4.57\n",
      "400,0.4000000000000003,-79.8316648809265,88.97388545970507,4.56\n",
      "500,0.5000000000000003,-74.4368489890595,109.10340446883207,4.56\n",
      "600,0.6000000000000004,-71.35329481617238,141.4511877238335,4.56\n",
      "700,0.7000000000000005,-67.47341847095346,133.6336511271457,4.56\n",
      "800,0.8000000000000006,-55.178469580393326,136.58920174510786,4.57\n",
      "900,0.9000000000000007,-50.69920722959874,148.56038294492703,4.57\n",
      "1000,1.0000000000000007,-42.3886304779895,172.17199467380286,4.57\n"
     ]
    }
   ],
   "source": [
    "mixedSystem.run_mixed_md(steps=1000, interval=100, output_file=\"./output_md_test.pdb\")"
   ]
  },
  {
   "cell_type": "code",
   "execution_count": null,
   "metadata": {},
   "outputs": [],
   "source": []
  }
 ],
 "metadata": {
  "kernelspec": {
   "display_name": "Python 3 (ipykernel)",
   "language": "python",
   "name": "python3"
  },
  "language_info": {
   "codemirror_mode": {
    "name": "ipython",
    "version": 3
   },
   "file_extension": ".py",
   "mimetype": "text/x-python",
   "name": "python",
   "nbconvert_exporter": "python",
   "pygments_lexer": "ipython3",
   "version": "3.9.13"
  },
  "vscode": {
   "interpreter": {
    "hash": "defcdbe4603445933122e93f03aa14d543f0a8f015e45137b009d3fe48ecf9d4"
   }
  }
 },
 "nbformat": 4,
 "nbformat_minor": 2
}
