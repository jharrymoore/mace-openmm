{
 "cells": [
  {
   "cell_type": "markdown",
   "metadata": {},
   "source": [
    "## Mace MD Demo notebook\n",
    "\n",
    "This should demonstrate the bare bones of the API for setting up a variety of MD jobs with hybrid MACE-classical hamiltonians.  The same functionalty is exposed through the `mace-md` command line program that is installed with the `mace-openmm-interop` package\n",
    "\n",
    "\n",
    "Your vs code server instance should have an attached CUDA GPU for this to run!"
   ]
  },
  {
   "cell_type": "code",
   "execution_count": 1,
   "metadata": {},
   "outputs": [
    {
     "name": "stdout",
     "output_type": "stream",
     "text": [
      "Wed Jan  4 12:25:04 2023       \n",
      "+-----------------------------------------------------------------------------+\n",
      "| NVIDIA-SMI 510.85.02    Driver Version: 510.85.02    CUDA Version: 11.6     |\n",
      "|-------------------------------+----------------------+----------------------+\n",
      "| GPU  Name        Persistence-M| Bus-Id        Disp.A | Volatile Uncorr. ECC |\n",
      "| Fan  Temp  Perf  Pwr:Usage/Cap|         Memory-Usage | GPU-Util  Compute M. |\n",
      "|                               |                      |               MIG M. |\n",
      "|===============================+======================+======================|\n",
      "|   0  NVIDIA A100-SXM...  On   | 00000000:41:00.0 Off |                    0 |\n",
      "| N/A   33C    P0    78W / 500W |      0MiB / 81920MiB |      0%      Default |\n",
      "|                               |                      |             Disabled |\n",
      "+-------------------------------+----------------------+----------------------+\n",
      "                                                                               \n",
      "+-----------------------------------------------------------------------------+\n",
      "| Processes:                                                                  |\n",
      "|  GPU   GI   CI        PID   Type   Process name                  GPU Memory |\n",
      "|        ID   ID                                                   Usage      |\n",
      "|=============================================================================|\n",
      "|  No running processes found                                                 |\n",
      "+-----------------------------------------------------------------------------+\n"
     ]
    }
   ],
   "source": [
    "!nvidia-smi"
   ]
  },
  {
   "cell_type": "code",
   "execution_count": 2,
   "metadata": {},
   "outputs": [
    {
     "name": "stderr",
     "output_type": "stream",
     "text": [
      "/rds/user/jhm72/hpc-work/openmmtools-dev/openmmtools/storage/iodrivers.py:88: SyntaxWarning: \"is not\" with a literal. Did you mean \"!=\"?\n",
      "  return '/'.join([path_part.strip('/ ') for path_part in split_path if path_part is not ''])\n",
      "/rds/user/jhm72/hpc-work/openmmtools-dev/openmmtools/storage/iodrivers.py:703: SyntaxWarning: \"is\" with a literal. Did you mean \"==\"?\n",
      "  if self._output_mode is 'a':\n",
      "Warning: Unable to load toolkit 'OpenEye Toolkit'. The Open Force Field Toolkit does not require the OpenEye Toolkits, and can use RDKit/AmberTools instead. However, if you have a valid license for the OpenEye Toolkits, consider installing them for faster performance and additional file format support: https://docs.eyesopen.com/toolkits/python/quickstart-python/linuxosx.html OpenEye offers free Toolkit licenses for academics: https://www.eyesopen.com/academic-licensing\n",
      "Warning: importing 'simtk.openmm' is deprecated.  Import 'openmm' instead.\n"
     ]
    }
   ],
   "source": [
    "from mace_openmm.mixed_system import MixedSystem\n",
    "import torch\n",
    "import logging\n",
    "from typing import Optional, Union\n",
    "from mace import tools"
   ]
  },
  {
   "cell_type": "code",
   "execution_count": 3,
   "metadata": {},
   "outputs": [],
   "source": [
    "logger = logging.getLogger(\"DEBUG\")\n",
    "tools.setup_logger(level=\"DEBUG\", directory=\"./logs\")"
   ]
  },
  {
   "cell_type": "code",
   "execution_count": 8,
   "metadata": {},
   "outputs": [],
   "source": [
    "# Change inputs in this cell only\n",
    "file = \"../tests/example_data/butane.sdf\"  # path to the system to be simulated, can be either protein ligand complex or isolated (sdf)\n",
    "ml_mol = \"CCCC\"  # path to the proper topology of the small molecule to be modeleld by mace, since pdb files are not sufficiently detailed.  this should be sdf.\n",
    "model_path = \"../tests/example_data/MACE_SPICE_larger.model\"\n",
    "forcefields = [\n",
    "    \"amber/protein.ff14SB.xml\",\n",
    "    \"amber/tip3p_standard.xml\",\n",
    "    \"amber14/DNA.OL15.xml\",\n",
    "]\n",
    "# name of the residue to be parametrised by mace, should correspond to whatever it is called in the ml_mol sdf file and system file\n",
    "resname = \"butane\"\n",
    "# minimum separation between the solute and box wall\n",
    "padding = 1.2\n",
    "# ion concentration in the solute\n",
    "ionicStrength = 0.15\n",
    "# cutoff distance (nm) for the non-bonded terns of the classical forcefield\n",
    "nonbondedCutoff = 1.0\n",
    "# name of the neural network potential, should correpond to the implemented FFs\n",
    "# in the openmm-ml package\n",
    "potential = \"mace\"\n",
    "# simulation temperature\n",
    "temperature = 298.15\n",
    "# precision to use for both MACE and openMM\n",
    "dtype = torch.float64\n",
    "# which version of the torch_nl to use - the n^2 impl is more reliable\n",
    "neighbour_list = \"torch_nl_n2\"\n",
    "# directory where simulation output will be written\n",
    "output_dir = \"./output\"\n",
    "# specify the type of system to create - pure (just the solute simulated in vcuum)\n",
    "# hybrid (small molecule modelled by MACE, rest of the system (protein or solvent) modelled by classical forcefield), decoupled (for ABFE simulations - lambda parameter controls switching off the ligand non-bonded terms)\n",
    "system_type = \"pure\""
   ]
  },
  {
   "cell_type": "code",
   "execution_count": 9,
   "metadata": {},
   "outputs": [],
   "source": [
    "torch.set_default_dtype(dtype)"
   ]
  },
  {
   "cell_type": "code",
   "execution_count": 10,
   "metadata": {},
   "outputs": [
    {
     "name": "stdout",
     "output_type": "stream",
     "text": [
      "2023-01-04 12:26:18.907 DEBUG: OpenMM will use Double precision\n",
      "2023-01-04 12:26:18.939 INFO: Using openff-1.0 unconstrained forcefield\n",
      "Initialized topology with (14, 3) positions\n",
      "MACE model compiled\n"
     ]
    }
   ],
   "source": [
    "mixedSystem = MixedSystem(\n",
    "    file=file,\n",
    "    ml_mol=ml_mol,\n",
    "    model_path=model_path,\n",
    "    forcefields=forcefields,\n",
    "    resname=resname,\n",
    "    padding=padding,\n",
    "    ionicStrength=ionicStrength,\n",
    "    nonbondedCutoff=nonbondedCutoff,\n",
    "    potential=potential,\n",
    "    temperature=temperature,\n",
    "    dtype=dtype,\n",
    "    neighbour_list=neighbour_list,\n",
    "    output_dir=output_dir,\n",
    "    system_type=system_type,\n",
    ")"
   ]
  },
  {
   "cell_type": "code",
   "execution_count": 12,
   "metadata": {},
   "outputs": [],
   "source": [
    "# Once the mixed system is created, we can run several different types of simulation: \n",
    "\n",
    "mixedSystem.run_mixed_md(steps=1000, interval=100, output_file=\"./output_md_test.pdb\")"
   ]
  },
  {
   "cell_type": "code",
   "execution_count": 13,
   "metadata": {},
   "outputs": [],
   "source": [
    "# runs Markov chain monte carlo replica exchange to interpoolate between MM and MM/ML descriptions of the system\n",
    "mixedSystem.run_replex_equilibrium_fep(replicas=2, restart=False, steps=2)"
   ]
  },
  {
   "cell_type": "code",
   "execution_count": null,
   "metadata": {},
   "outputs": [],
   "source": []
  }
 ],
 "metadata": {
  "kernelspec": {
   "display_name": "Python 3 (ipykernel)",
   "language": "python",
   "name": "python3"
  },
  "language_info": {
   "codemirror_mode": {
    "name": "ipython",
    "version": 3
   },
   "file_extension": ".py",
   "mimetype": "text/x-python",
   "name": "python",
   "nbconvert_exporter": "python",
   "pygments_lexer": "ipython3",
   "version": "3.9.13"
  },
  "vscode": {
   "interpreter": {
    "hash": "defcdbe4603445933122e93f03aa14d543f0a8f015e45137b009d3fe48ecf9d4"
   }
  }
 },
 "nbformat": 4,
 "nbformat_minor": 2
}
