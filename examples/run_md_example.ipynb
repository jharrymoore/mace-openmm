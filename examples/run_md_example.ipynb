{
 "cells": [
  {
   "cell_type": "markdown",
   "metadata": {},
   "source": [
    "## Mace MD Demo notebook\n",
    "\n",
    "This should demonstrate the bare bones of the API for setting up a variety of MD jobs with hybrid MACE-classical hamiltonians.  The same functionalty is exposed through the `mace-md` command line program that is installed with the `mace-openmm-interop` package\n",
    "\n",
    "\n",
    "Your vs code server instance should have an attached CUDA GPU for this to run!"
   ]
  },
  {
   "cell_type": "code",
   "execution_count": 8,
   "metadata": {},
   "outputs": [],
   "source": [
    "from mace_openmm.mixed_system import MixedSystem\n",
    "import torch\n",
    "import logging"
   ]
  },
  {
   "cell_type": "code",
   "execution_count": 10,
   "metadata": {},
   "outputs": [],
   "source": [
    "logger = logging.getLogger(\"INFO\")"
   ]
  },
  {
   "cell_type": "code",
   "execution_count": 11,
   "metadata": {},
   "outputs": [],
   "source": [
    "# Change inputs in this cell only\n",
    "file = \"../tests/example_data/5n.sdf\" # path to the system to be simulated, can be either protein ligand complex or isolated (sdf)\n",
    "ml_mol = file # path to the proper topology of the small molecule to be modeleld by mace, since pdb files are not sufficiently detailed.  this should be sdf. \n",
    "model_path = \"../tests/example_data/MACE_SPICE_larger.model\"\n",
    "forcefields = [\"amber/protein.ff14SB.xml\", \"amber/tip3p_standard.xml\",\"amber14/DNA.OL15.xml\"]\n",
    "# name of the residue to be parametrised by mace, should correspond to whatever it is called in the ml_mol sdf file and system file\n",
    "resname = \"5n\"\n",
    "padding = 1.2\n",
    "ionicStrength = 0.15\n",
    "nonbondedCutoff = 1.0\n",
    "potential = \"mace\"\n",
    "temperature = 298.15\n",
    "dtype = torch.float64\n",
    "# n2 impl is more reliable\n",
    "neighbour_list = \"torch_nl_n2\"\n",
    "\n",
    "output_dir = \"./output\"\n",
    "\n",
    "# controls whether the system will be solvated with only the specified portion in ml_mol parametrised by mace\n",
    "pure_ml_system = False\n",
    "\n",
    "\n"
   ]
  },
  {
   "cell_type": "code",
   "execution_count": 12,
   "metadata": {},
   "outputs": [
    {
     "name": "stdout",
     "output_type": "stream",
     "text": [
      "Initialized topology with (44, 3) positions\n",
      "MACE model compiled\n"
     ]
    },
    {
     "ename": "RuntimeError",
     "evalue": "No CUDA GPUs are available",
     "output_type": "error",
     "traceback": [
      "\u001b[0;31m---------------------------------------------------------------------------\u001b[0m",
      "\u001b[0;31mRuntimeError\u001b[0m                              Traceback (most recent call last)",
      "Cell \u001b[0;32mIn [12], line 1\u001b[0m\n\u001b[0;32m----> 1\u001b[0m mixedSystem \u001b[39m=\u001b[39m MixedSystem(file\u001b[39m=\u001b[39;49mfile,\n\u001b[1;32m      2\u001b[0m                           ml_mol\u001b[39m=\u001b[39;49mml_mol,\n\u001b[1;32m      3\u001b[0m                           model_path\u001b[39m=\u001b[39;49mmodel_path,\n\u001b[1;32m      4\u001b[0m                           forcefields\u001b[39m=\u001b[39;49mforcefields,\n\u001b[1;32m      5\u001b[0m                           resname\u001b[39m=\u001b[39;49mresname,\n\u001b[1;32m      6\u001b[0m                           padding\u001b[39m=\u001b[39;49mpadding,\n\u001b[1;32m      7\u001b[0m                           ionicStrength\u001b[39m=\u001b[39;49mionicStrength,\n\u001b[1;32m      8\u001b[0m                           nonbondedCutoff\u001b[39m=\u001b[39;49mnonbondedCutoff,\n\u001b[1;32m      9\u001b[0m                           potential\u001b[39m=\u001b[39;49mpotential,\n\u001b[1;32m     10\u001b[0m                           temperature\u001b[39m=\u001b[39;49mtemperature,\n\u001b[1;32m     11\u001b[0m                           dtype\u001b[39m=\u001b[39;49mdtype,\n\u001b[1;32m     12\u001b[0m                           neighbour_list\u001b[39m=\u001b[39;49mneighbour_list,\n\u001b[1;32m     13\u001b[0m                           output_dir\u001b[39m=\u001b[39;49moutput_dir,\n\u001b[1;32m     14\u001b[0m                           pure_ml_system\u001b[39m=\u001b[39;49mpure_ml_system\n\u001b[1;32m     15\u001b[0m                           )\n",
      "File \u001b[0;32m/rds/user/jhm72/hpc-work/mace-openmm-interop/mace_openmm/mixed_system.py:105\u001b[0m, in \u001b[0;36mMixedSystem.__init__\u001b[0;34m(self, file, ml_mol, model_path, forcefields, resname, padding, ionicStrength, nonbondedCutoff, potential, temperature, dtype, neighbour_list, output_dir, friction_coeff, timestep, pure_ml_system)\u001b[0m\n\u001b[1;32m    101\u001b[0m logger\u001b[39m.\u001b[39mdebug(\u001b[39mf\u001b[39m\u001b[39m\"\u001b[39m\u001b[39mOpenMM will use \u001b[39m\u001b[39m{\u001b[39;00m\u001b[39mself\u001b[39m\u001b[39m.\u001b[39mopenmm_precision\u001b[39m}\u001b[39;00m\u001b[39m precision\u001b[39m\u001b[39m\"\u001b[39m)\n\u001b[1;32m    103\u001b[0m os\u001b[39m.\u001b[39mmakedirs(\u001b[39mself\u001b[39m\u001b[39m.\u001b[39moutput_dir, exist_ok\u001b[39m=\u001b[39m\u001b[39mTrue\u001b[39;00m)\n\u001b[0;32m--> 105\u001b[0m \u001b[39mself\u001b[39m\u001b[39m.\u001b[39mmixed_system, \u001b[39mself\u001b[39m\u001b[39m.\u001b[39mmodeller \u001b[39m=\u001b[39m \u001b[39mself\u001b[39;49m\u001b[39m.\u001b[39;49mcreate_mixed_system(\n\u001b[1;32m    106\u001b[0m     file\u001b[39m=\u001b[39;49mfile, ml_mol\u001b[39m=\u001b[39;49mml_mol, model_path\u001b[39m=\u001b[39;49mmodel_path, pure_ml_system\u001b[39m=\u001b[39;49mpure_ml_system\n\u001b[1;32m    107\u001b[0m )\n",
      "File \u001b[0;32m/rds/user/jhm72/hpc-work/mace-openmm-interop/mace_openmm/mixed_system.py:216\u001b[0m, in \u001b[0;36mMixedSystem.create_mixed_system\u001b[0;34m(self, file, model_path, ml_mol, pure_ml_system)\u001b[0m\n\u001b[1;32m    201\u001b[0m atoms\u001b[39m.\u001b[39mset_cell(\n\u001b[1;32m    202\u001b[0m     [\n\u001b[1;32m    203\u001b[0m         omm_box_vecs[\u001b[39m0\u001b[39m][\u001b[39m0\u001b[39m]\u001b[39m.\u001b[39mvalue_in_unit(angstrom),\n\u001b[0;32m   (...)\u001b[0m\n\u001b[1;32m    206\u001b[0m     ]\n\u001b[1;32m    207\u001b[0m )\n\u001b[1;32m    209\u001b[0m mm_system \u001b[39m=\u001b[39m forcefield\u001b[39m.\u001b[39mcreateSystem(\n\u001b[1;32m    210\u001b[0m     modeller\u001b[39m.\u001b[39mtopology,\n\u001b[1;32m    211\u001b[0m     nonbondedMethod\u001b[39m=\u001b[39mPME,\n\u001b[1;32m    212\u001b[0m     nonbondedCutoff\u001b[39m=\u001b[39m\u001b[39mself\u001b[39m\u001b[39m.\u001b[39mnonbondedCutoff \u001b[39m*\u001b[39m nanometer,\n\u001b[1;32m    213\u001b[0m     constraints\u001b[39m=\u001b[39m\u001b[39mNone\u001b[39;00m,\n\u001b[1;32m    214\u001b[0m )\n\u001b[0;32m--> 216\u001b[0m mixed_system \u001b[39m=\u001b[39m MixedSystemConstructor(\n\u001b[1;32m    217\u001b[0m     system\u001b[39m=\u001b[39;49mmm_system,\n\u001b[1;32m    218\u001b[0m     topology\u001b[39m=\u001b[39;49mmodeller\u001b[39m.\u001b[39;49mtopology,\n\u001b[1;32m    219\u001b[0m     nnpify_resname\u001b[39m=\u001b[39;49m\u001b[39mself\u001b[39;49m\u001b[39m.\u001b[39;49mresname,\n\u001b[1;32m    220\u001b[0m     nnp_potential\u001b[39m=\u001b[39;49m\u001b[39mself\u001b[39;49m\u001b[39m.\u001b[39;49mpotential,\n\u001b[1;32m    221\u001b[0m     atoms_obj\u001b[39m=\u001b[39;49matoms,\n\u001b[1;32m    222\u001b[0m     filename\u001b[39m=\u001b[39;49mmodel_path,\n\u001b[1;32m    223\u001b[0m     dtype\u001b[39m=\u001b[39;49m\u001b[39mself\u001b[39;49m\u001b[39m.\u001b[39;49mdtype,\n\u001b[1;32m    224\u001b[0m     nl\u001b[39m=\u001b[39;49m\u001b[39mself\u001b[39;49m\u001b[39m.\u001b[39;49mneighbour_list,\n\u001b[1;32m    225\u001b[0m )\u001b[39m.\u001b[39;49mmixed_system\n\u001b[1;32m    228\u001b[0m \u001b[39m# write the final prepared system to disk\u001b[39;00m\n\u001b[1;32m    229\u001b[0m \u001b[39mwith\u001b[39;00m \u001b[39mopen\u001b[39m(os\u001b[39m.\u001b[39mpath\u001b[39m.\u001b[39mjoin(\u001b[39mself\u001b[39m\u001b[39m.\u001b[39moutput_dir, \u001b[39m\"\u001b[39m\u001b[39mprepared_system.pdb\u001b[39m\u001b[39m\"\u001b[39m), \u001b[39m'\u001b[39m\u001b[39mw\u001b[39m\u001b[39m'\u001b[39m) \u001b[39mas\u001b[39;00m f:\n",
      "File \u001b[0;32m/rds/user/jhm72/hpc-work/openmmtools/openmmtools/openmm_torch/repex.py:78\u001b[0m, in \u001b[0;36mMixedSystemConstructor.mixed_system\u001b[0;34m(self)\u001b[0m\n\u001b[1;32m     76\u001b[0m \u001b[39m@property\u001b[39m\n\u001b[1;32m     77\u001b[0m \u001b[39mdef\u001b[39;00m \u001b[39mmixed_system\u001b[39m(\u001b[39mself\u001b[39m):\n\u001b[0;32m---> 78\u001b[0m     \u001b[39mreturn\u001b[39;00m \u001b[39mself\u001b[39;49m\u001b[39m.\u001b[39;49m_nnp_potential\u001b[39m.\u001b[39;49mcreateMixedSystem(\u001b[39mself\u001b[39;49m\u001b[39m.\u001b[39;49m_topology, \n\u001b[1;32m     79\u001b[0m                                                  system \u001b[39m=\u001b[39;49m \u001b[39mself\u001b[39;49m\u001b[39m.\u001b[39;49m_system, \n\u001b[1;32m     80\u001b[0m                                                  atoms \u001b[39m=\u001b[39;49m \u001b[39mself\u001b[39;49m\u001b[39m.\u001b[39;49m_atom_indices, \n\u001b[1;32m     81\u001b[0m                                                  implementation\u001b[39m=\u001b[39;49m\u001b[39m'\u001b[39;49m\u001b[39mnnpops\u001b[39;49m\u001b[39m'\u001b[39;49m, \n\u001b[1;32m     82\u001b[0m                                                  interpolate\u001b[39m=\u001b[39;49m\u001b[39mTrue\u001b[39;49;00m,\n\u001b[1;32m     83\u001b[0m                                                  \u001b[39m*\u001b[39;49m\u001b[39m*\u001b[39;49m\u001b[39mself\u001b[39;49m\u001b[39m.\u001b[39;49m_createMixedSystem_kwargs\n\u001b[1;32m     84\u001b[0m                                                  )\n",
      "File \u001b[0;32m/rds/user/jhm72/hpc-work/openmm-ml/openmmml/mlpotential.py:303\u001b[0m, in \u001b[0;36mMLPotential.createMixedSystem\u001b[0;34m(self, topology, system, atoms, removeConstraints, forceGroup, interpolate, **args)\u001b[0m\n\u001b[1;32m    301\u001b[0m cv\u001b[39m.\u001b[39maddGlobalParameter(\u001b[39m'\u001b[39m\u001b[39mlambda_interpolate\u001b[39m\u001b[39m'\u001b[39m, \u001b[39m1\u001b[39m)\n\u001b[1;32m    302\u001b[0m tempSystem \u001b[39m=\u001b[39m openmm\u001b[39m.\u001b[39mSystem()\n\u001b[0;32m--> 303\u001b[0m \u001b[39mself\u001b[39;49m\u001b[39m.\u001b[39;49m_impl\u001b[39m.\u001b[39;49maddForces(topology, tempSystem, atomList, forceGroup, \u001b[39m*\u001b[39;49m\u001b[39m*\u001b[39;49margs)\n\u001b[1;32m    304\u001b[0m \u001b[39m# These simply get summed by the expression at the end\u001b[39;00m\n\u001b[1;32m    305\u001b[0m mlVarNames \u001b[39m=\u001b[39m []\n",
      "File \u001b[0;32m/rds/user/jhm72/hpc-work/openmm-ml/openmmml/models/mace_potential.py:160\u001b[0m, in \u001b[0;36mMacePotentialImpl.addForces\u001b[0;34m(self, topology, system, atoms, forceGroup, filename, implementation, **args)\u001b[0m\n\u001b[1;32m    157\u001b[0m \u001b[39mprint\u001b[39m(\u001b[39m\"\u001b[39m\u001b[39mMACE model compiled\u001b[39m\u001b[39m\"\u001b[39m)\n\u001b[1;32m    158\u001b[0m \u001b[39m# TODO: this should take a topology\u001b[39;00m\n\u001b[1;32m    159\u001b[0m \u001b[39m# A bit hacky to add the atoms object like this\u001b[39;00m\n\u001b[0;32m--> 160\u001b[0m openmm_calc \u001b[39m=\u001b[39m MACE_openmm(filename, atom_indices\u001b[39m=\u001b[39;49matoms, \u001b[39m*\u001b[39;49m\u001b[39m*\u001b[39;49margs)\n\u001b[1;32m    161\u001b[0m jit\u001b[39m.\u001b[39mscript(openmm_calc)\u001b[39m.\u001b[39msave(\u001b[39m\"\u001b[39m\u001b[39mmd_test_mace.pt\u001b[39m\u001b[39m\"\u001b[39m)\n\u001b[1;32m    162\u001b[0m force \u001b[39m=\u001b[39m TorchForce(\u001b[39m\"\u001b[39m\u001b[39mmd_test_mace.pt\u001b[39m\u001b[39m\"\u001b[39m)\n",
      "File \u001b[0;32m/rds/user/jhm72/hpc-work/openmm-ml/openmmml/models/mace_potential.py:67\u001b[0m, in \u001b[0;36mMACE_openmm.__init__\u001b[0;34m(self, model_path, dtype, atom_indices, nl, atoms_obj, topology, device)\u001b[0m\n\u001b[1;32m     56\u001b[0m config \u001b[39m=\u001b[39m data\u001b[39m.\u001b[39mconfig_from_atoms(atoms_obj)\n\u001b[1;32m     57\u001b[0m data_loader \u001b[39m=\u001b[39m torch_geometric\u001b[39m.\u001b[39mdataloader\u001b[39m.\u001b[39mDataLoader(\n\u001b[1;32m     58\u001b[0m     dataset\u001b[39m=\u001b[39m[\n\u001b[1;32m     59\u001b[0m         data\u001b[39m.\u001b[39mAtomicData\u001b[39m.\u001b[39mfrom_config(\n\u001b[0;32m   (...)\u001b[0m\n\u001b[1;32m     65\u001b[0m     drop_last\u001b[39m=\u001b[39m\u001b[39mFalse\u001b[39;00m,\n\u001b[1;32m     66\u001b[0m )\n\u001b[0;32m---> 67\u001b[0m batch \u001b[39m=\u001b[39m \u001b[39mnext\u001b[39;49m(\u001b[39miter\u001b[39;49m(data_loader))\u001b[39m.\u001b[39;49mto(\u001b[39mself\u001b[39;49m\u001b[39m.\u001b[39;49mdevice)\n\u001b[1;32m     68\u001b[0m batch_dict \u001b[39m=\u001b[39m batch\u001b[39m.\u001b[39mto_dict()\n\u001b[1;32m     69\u001b[0m batch_dict\u001b[39m.\u001b[39mpop(\u001b[39m\"\u001b[39m\u001b[39medge_index\u001b[39m\u001b[39m\"\u001b[39m)\n",
      "File \u001b[0;32m/rds/user/jhm72/hpc-work/mace-openmm/mace/tools/torch_geometric/data.py:302\u001b[0m, in \u001b[0;36mData.to\u001b[0;34m(self, device, *keys, **kwargs)\u001b[0m\n\u001b[1;32m    297\u001b[0m \u001b[39mdef\u001b[39;00m \u001b[39mto\u001b[39m(\u001b[39mself\u001b[39m, device, \u001b[39m*\u001b[39mkeys, \u001b[39m*\u001b[39m\u001b[39m*\u001b[39mkwargs):\n\u001b[1;32m    298\u001b[0m     \u001b[39mr\u001b[39m\u001b[39m\"\"\"Performs tensor dtype and/or device conversion to all attributes\u001b[39;00m\n\u001b[1;32m    299\u001b[0m \u001b[39m    :obj:`*keys`.\u001b[39;00m\n\u001b[1;32m    300\u001b[0m \u001b[39m    If :obj:`*keys` is not given, the conversion is applied to all present\u001b[39;00m\n\u001b[1;32m    301\u001b[0m \u001b[39m    attributes.\"\"\"\u001b[39;00m\n\u001b[0;32m--> 302\u001b[0m     \u001b[39mreturn\u001b[39;00m \u001b[39mself\u001b[39;49m\u001b[39m.\u001b[39;49mapply(\u001b[39mlambda\u001b[39;49;00m x: x\u001b[39m.\u001b[39;49mto(device, \u001b[39m*\u001b[39;49m\u001b[39m*\u001b[39;49mkwargs), \u001b[39m*\u001b[39;49mkeys)\n",
      "File \u001b[0;32m/rds/user/jhm72/hpc-work/mace-openmm/mace/tools/torch_geometric/data.py:288\u001b[0m, in \u001b[0;36mData.apply\u001b[0;34m(self, func, *keys)\u001b[0m\n\u001b[1;32m    283\u001b[0m \u001b[39mr\u001b[39m\u001b[39m\"\"\"Applies the function :obj:`func` to all tensor attributes\u001b[39;00m\n\u001b[1;32m    284\u001b[0m \u001b[39m:obj:`*keys`. If :obj:`*keys` is not given, :obj:`func` is applied to\u001b[39;00m\n\u001b[1;32m    285\u001b[0m \u001b[39mall present attributes.\u001b[39;00m\n\u001b[1;32m    286\u001b[0m \u001b[39m\"\"\"\u001b[39;00m\n\u001b[1;32m    287\u001b[0m \u001b[39mfor\u001b[39;00m key, item \u001b[39min\u001b[39;00m \u001b[39mself\u001b[39m(\u001b[39m*\u001b[39mkeys):\n\u001b[0;32m--> 288\u001b[0m     \u001b[39mself\u001b[39m[key] \u001b[39m=\u001b[39m \u001b[39mself\u001b[39;49m\u001b[39m.\u001b[39;49m__apply__(item, func)\n\u001b[1;32m    289\u001b[0m \u001b[39mreturn\u001b[39;00m \u001b[39mself\u001b[39m\n",
      "File \u001b[0;32m/rds/user/jhm72/hpc-work/mace-openmm/mace/tools/torch_geometric/data.py:274\u001b[0m, in \u001b[0;36mData.__apply__\u001b[0;34m(self, item, func)\u001b[0m\n\u001b[1;32m    272\u001b[0m \u001b[39mdef\u001b[39;00m \u001b[39m__apply__\u001b[39m(\u001b[39mself\u001b[39m, item, func):\n\u001b[1;32m    273\u001b[0m     \u001b[39mif\u001b[39;00m torch\u001b[39m.\u001b[39mis_tensor(item):\n\u001b[0;32m--> 274\u001b[0m         \u001b[39mreturn\u001b[39;00m func(item)\n\u001b[1;32m    275\u001b[0m     \u001b[39melif\u001b[39;00m \u001b[39misinstance\u001b[39m(item, (\u001b[39mtuple\u001b[39m, \u001b[39mlist\u001b[39m)):\n\u001b[1;32m    276\u001b[0m         \u001b[39mreturn\u001b[39;00m [\u001b[39mself\u001b[39m\u001b[39m.\u001b[39m__apply__(v, func) \u001b[39mfor\u001b[39;00m v \u001b[39min\u001b[39;00m item]\n",
      "File \u001b[0;32m/rds/user/jhm72/hpc-work/mace-openmm/mace/tools/torch_geometric/data.py:302\u001b[0m, in \u001b[0;36mData.to.<locals>.<lambda>\u001b[0;34m(x)\u001b[0m\n\u001b[1;32m    297\u001b[0m \u001b[39mdef\u001b[39;00m \u001b[39mto\u001b[39m(\u001b[39mself\u001b[39m, device, \u001b[39m*\u001b[39mkeys, \u001b[39m*\u001b[39m\u001b[39m*\u001b[39mkwargs):\n\u001b[1;32m    298\u001b[0m     \u001b[39mr\u001b[39m\u001b[39m\"\"\"Performs tensor dtype and/or device conversion to all attributes\u001b[39;00m\n\u001b[1;32m    299\u001b[0m \u001b[39m    :obj:`*keys`.\u001b[39;00m\n\u001b[1;32m    300\u001b[0m \u001b[39m    If :obj:`*keys` is not given, the conversion is applied to all present\u001b[39;00m\n\u001b[1;32m    301\u001b[0m \u001b[39m    attributes.\"\"\"\u001b[39;00m\n\u001b[0;32m--> 302\u001b[0m     \u001b[39mreturn\u001b[39;00m \u001b[39mself\u001b[39m\u001b[39m.\u001b[39mapply(\u001b[39mlambda\u001b[39;00m x: x\u001b[39m.\u001b[39;49mto(device, \u001b[39m*\u001b[39;49m\u001b[39m*\u001b[39;49mkwargs), \u001b[39m*\u001b[39mkeys)\n",
      "File \u001b[0;32m~/miniconda3/envs/mlmm/lib/python3.9/site-packages/torch/cuda/__init__.py:217\u001b[0m, in \u001b[0;36m_lazy_init\u001b[0;34m()\u001b[0m\n\u001b[1;32m    213\u001b[0m     \u001b[39mraise\u001b[39;00m \u001b[39mAssertionError\u001b[39;00m(\n\u001b[1;32m    214\u001b[0m         \u001b[39m\"\u001b[39m\u001b[39mlibcudart functions unavailable. It looks like you have a broken build?\u001b[39m\u001b[39m\"\u001b[39m)\n\u001b[1;32m    215\u001b[0m \u001b[39m# This function throws if there's a driver initialization error, no GPUs\u001b[39;00m\n\u001b[1;32m    216\u001b[0m \u001b[39m# are found or any other error occurs\u001b[39;00m\n\u001b[0;32m--> 217\u001b[0m torch\u001b[39m.\u001b[39;49m_C\u001b[39m.\u001b[39;49m_cuda_init()\n\u001b[1;32m    218\u001b[0m \u001b[39m# Some of the queued calls may reentrantly call _lazy_init();\u001b[39;00m\n\u001b[1;32m    219\u001b[0m \u001b[39m# we need to just return without initializing in that case.\u001b[39;00m\n\u001b[1;32m    220\u001b[0m \u001b[39m# However, we must not let any *other* threads in!\u001b[39;00m\n\u001b[1;32m    221\u001b[0m _tls\u001b[39m.\u001b[39mis_initializing \u001b[39m=\u001b[39m \u001b[39mTrue\u001b[39;00m\n",
      "\u001b[0;31mRuntimeError\u001b[0m: No CUDA GPUs are available"
     ]
    }
   ],
   "source": [
    "mixedSystem = MixedSystem(file=file,\n",
    "                          ml_mol=ml_mol,\n",
    "                          model_path=model_path,\n",
    "                          forcefields=forcefields,\n",
    "                          resname=resname,\n",
    "                          padding=padding,\n",
    "                          ionicStrength=ionicStrength,\n",
    "                          nonbondedCutoff=nonbondedCutoff,\n",
    "                          potential=potential,\n",
    "                          temperature=temperature,\n",
    "                          dtype=dtype,\n",
    "                          neighbour_list=neighbour_list,\n",
    "                          output_dir=output_dir,\n",
    "                          pure_ml_system=pure_ml_system\n",
    "                          )"
   ]
  },
  {
   "cell_type": "code",
   "execution_count": null,
   "metadata": {},
   "outputs": [],
   "source": []
  }
 ],
 "metadata": {
  "kernelspec": {
   "display_name": "Python 3.9.13 ('mlmm')",
   "language": "python",
   "name": "python3"
  },
  "language_info": {
   "codemirror_mode": {
    "name": "ipython",
    "version": 3
   },
   "file_extension": ".py",
   "mimetype": "text/x-python",
   "name": "python",
   "nbconvert_exporter": "python",
   "pygments_lexer": "ipython3",
   "version": "3.9.13"
  },
  "orig_nbformat": 4,
  "vscode": {
   "interpreter": {
    "hash": "defcdbe4603445933122e93f03aa14d543f0a8f015e45137b009d3fe48ecf9d4"
   }
  }
 },
 "nbformat": 4,
 "nbformat_minor": 2
}
