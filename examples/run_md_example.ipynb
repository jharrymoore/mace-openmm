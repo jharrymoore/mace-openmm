{
 "cells": [
  {
   "cell_type": "markdown",
   "metadata": {},
   "source": [
    "## Mace MD Demo notebook\n",
    "\n",
    "This should demonstrate the bare bones of the API for setting up a variety of MD jobs with hybrid MACE-classical hamiltonians.  The same functionalty is exposed through the `mace-md` command line program that is installed with the `mace-openmm-interop` package\n",
    "\n",
    "\n",
    "Your vs code server instance should have an attached CUDA GPU for this to run!"
   ]
  },
  {
   "cell_type": "code",
   "execution_count": 1,
   "metadata": {},
   "outputs": [
    {
     "name": "stderr",
     "output_type": "stream",
     "text": [
      "/rds/user/jhm72/hpc-work/openmmtools/openmmtools/storage/iodrivers.py:88: SyntaxWarning: \"is not\" with a literal. Did you mean \"!=\"?\n",
      "  return '/'.join([path_part.strip('/ ') for path_part in split_path if path_part is not ''])\n",
      "/rds/user/jhm72/hpc-work/openmmtools/openmmtools/storage/iodrivers.py:703: SyntaxWarning: \"is\" with a literal. Did you mean \"==\"?\n",
      "  if self._output_mode is 'a':\n",
      "Warning: Unable to load toolkit 'OpenEye Toolkit'. The Open Force Field Toolkit does not require the OpenEye Toolkits, and can use RDKit/AmberTools instead. However, if you have a valid license for the OpenEye Toolkits, consider installing them for faster performance and additional file format support: https://docs.eyesopen.com/toolkits/python/quickstart-python/linuxosx.html OpenEye offers free Toolkit licenses for academics: https://www.eyesopen.com/academic-licensing\n",
      "Warning: importing 'simtk.openmm' is deprecated.  Import 'openmm' instead.\n"
     ]
    }
   ],
   "source": [
    "from mace_openmm.mixed_system import MixedSystem\n",
    "import torch\n",
    "import logging"
   ]
  },
  {
   "cell_type": "code",
   "execution_count": 2,
   "metadata": {},
   "outputs": [],
   "source": [
    "logger = logging.getLogger(\"INFO\")"
   ]
  },
  {
   "cell_type": "code",
   "execution_count": 3,
   "metadata": {},
   "outputs": [],
   "source": [
    "# Change inputs in this cell only\n",
    "file = \"../tests/example_data/5n.sdf\" # path to the system to be simulated, can be either protein ligand complex or isolated (sdf)\n",
    "ml_mol = file # path to the proper topology of the small molecule to be modeleld by mace, since pdb files are not sufficiently detailed.  this should be sdf. \n",
    "model_path = \"../tests/example_data/MACE_SPICE_larger.model\"\n",
    "forcefields = [\"amber/protein.ff14SB.xml\", \"amber/tip3p_standard.xml\",\"amber14/DNA.OL15.xml\"]\n",
    "# name of the residue to be parametrised by mace, should correspond to whatever it is called in the ml_mol sdf file and system file\n",
    "resname = \"5n\"\n",
    "padding = 1.2\n",
    "ionicStrength = 0.15\n",
    "nonbondedCutoff = 1.0\n",
    "potential = \"mace\"\n",
    "temperature = 298.15\n",
    "dtype = torch.float64\n",
    "# n2 impl is more reliable\n",
    "neighbour_list = \"torch_nl_n2\"\n",
    "\n",
    "output_dir = \"./output\"\n",
    "\n",
    "# controls whether the system will be solvated with only the specified portion in ml_mol parametrised by mace\n",
    "pure_ml_system = False\n"
   ]
  },
  {
   "cell_type": "code",
   "execution_count": 5,
   "metadata": {},
   "outputs": [],
   "source": [
    "mixedSystem = MixedSystem(file=file,\n",
    "                          ml_mol=ml_mol,\n",
    "                          model_path=model_path,\n",
    "                          forcefields=forcefields,\n",
    "                          resname=resname,\n",
    "                          padding=padding,\n",
    "                          ionicStrength=ionicStrength,\n",
    "                          nonbondedCutoff=nonbondedCutoff,\n",
    "                          potential=potential,\n",
    "                          temperature=temperature,\n",
    "                          dtype=dtype,\n",
    "                          neighbour_list=neighbour_list,\n",
    "                          output_dir=output_dir,\n",
    "                          pure_ml_system=pure_ml_system\n",
    "                          )"
   ]
  },
  {
   "cell_type": "code",
   "execution_count": null,
   "metadata": {},
   "outputs": [],
   "source": [
    "# runs MD with the mixed hamiltonian\n",
    "\n",
    "mixedSystem.run_mixed_md(steps=1000, interval=100, output_file=\"./output_md_test.pdb\")"
   ]
  },
  {
   "cell_type": "code",
   "execution_count": null,
   "metadata": {},
   "outputs": [],
   "source": [
    "# runs Markov chain monte carlo replica exchange to interpoolate between MM and MM/ML descriptions of the system\n",
    "mixedSystem.run_replex_equilibrium_fep(replicas=10, restart=False, steps=1000)"
   ]
  }
 ],
 "metadata": {
  "kernelspec": {
   "display_name": "Python 3.9.13 ('mlmm')",
   "language": "python",
   "name": "python3"
  },
  "language_info": {
   "codemirror_mode": {
    "name": "ipython",
    "version": 3
   },
   "file_extension": ".py",
   "mimetype": "text/x-python",
   "name": "python",
   "nbconvert_exporter": "python",
   "pygments_lexer": "ipython3",
   "version": "3.9.13"
  },
  "orig_nbformat": 4,
  "vscode": {
   "interpreter": {
    "hash": "defcdbe4603445933122e93f03aa14d543f0a8f015e45137b009d3fe48ecf9d4"
   }
  }
 },
 "nbformat": 4,
 "nbformat_minor": 2
}
